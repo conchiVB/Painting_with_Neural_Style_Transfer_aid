{
 "cells": [
  {
   "cell_type": "markdown",
   "id": "2ecc42ff",
   "metadata": {},
   "source": [
    "# Painting with Neural Style Transfer as aid\n",
    "___\n",
    "\n",
    "\n",
    "Generate a painting-like image using a neural style transfer model to transform the input image into a brush painting style.\n",
    "\n",
    "\n",
    "\n",
    "### Objective\n",
    "\n",
    "Given an input image, perform neural style transfer to transform it into a brush stroke painting. The generated image is then analyzed by breaking down its colors to display a visual palette. Finally, a first suggestion for the painting is provided using color segmentation to create a series of images\n",
    "\n",
    "\n",
    "### Style image\n",
    "\n",
    "The style image used for the transformation is the next:\n",
    "\n",
    "<img src=\"./06_transfer_style/style/paint1.jpg\" width=\"200\" height=\"250\" />\n",
    "\n",
    "\n",
    "### Model\n",
    "\n",
    "The VGG19 network, which is widely used in style transfer algorithms, is employed as the model in this case. This pre-trained network is utilized to extract the content and style representations from the input images. The extracted features are then employed to generate a new image that merges the content of one image with the style of another image.\"\n",
    "\n",
    "\n",
    "### Visualitation\n",
    "\n",
    "A streamlit app has been developed for the process. The user inputs an image and the program returns the transformed image, a color palette, and a series of images showing the painting process.\n",
    "\n"
   ]
  },
  {
   "cell_type": "code",
   "execution_count": null,
   "id": "7d5124fd",
   "metadata": {},
   "outputs": [],
   "source": []
  }
 ],
 "metadata": {
  "kernelspec": {
   "display_name": "Python 3 (ipykernel)",
   "language": "python",
   "name": "python3"
  },
  "language_info": {
   "codemirror_mode": {
    "name": "ipython",
    "version": 3
   },
   "file_extension": ".py",
   "mimetype": "text/x-python",
   "name": "python",
   "nbconvert_exporter": "python",
   "pygments_lexer": "ipython3",
   "version": "3.8.11"
  }
 },
 "nbformat": 4,
 "nbformat_minor": 5
}
